{
 "cells": [
  {
   "cell_type": "markdown",
   "source": [
    "Loads the cats_vs_dogs dataset, splits it into training and validation sets, and preprocesses the images by resizing them to a consistent shape (let's say 160x160 pixels) for input into a neural network"
   ],
   "metadata": {
    "collapsed": false
   },
   "id": "41c0ab94e2342579"
  },
  {
   "cell_type": "code",
   "execution_count": 5,
   "id": "initial_id",
   "metadata": {
    "collapsed": true,
    "ExecuteTime": {
     "end_time": "2023-12-01T09:57:51.113488473Z",
     "start_time": "2023-12-01T09:57:50.869982062Z"
    }
   },
   "outputs": [],
   "source": [
    "import tensorflow as tf\n",
    "import tensorflow_datasets as tfds\n",
    "\n",
    "# Load the dataset\n",
    "(ds_train, ds_validation), ds_info = tfds.load(\n",
    "    'cats_vs_dogs',\n",
    "    split=['train[:80%]', 'train[80%:]'],\n",
    "    as_supervised=True,\n",
    "    with_info=True,\n",
    ")\n",
    "\n",
    "# Define the size to which you want to resize the images\n",
    "IMG_SIZE = 160\n",
    "\n",
    "# Define the preprocessing function\n",
    "def preprocess(image, label):\n",
    "    image = tf.cast(image, tf.float32)\n",
    "    image = (image / 255.0)\n",
    "    image = tf.image.resize(image, (IMG_SIZE, IMG_SIZE))\n",
    "    return image, label\n",
    "\n",
    "# Define the augmentation function\n",
    "def augment(image, label):\n",
    "    image = tf.image.random_flip_left_right(image)\n",
    "    image = tf.image.random_brightness(image, max_delta=0.2)\n",
    "    image = tf.image.random_contrast(image, lower=0.8, upper=1.2)\n",
    "    image = tf.image.random_saturation(image, lower=0.8, upper=1.2)\n",
    "    # Add more transformations as needed\n",
    "    return image, label\n",
    "\n",
    "# Apply the preprocess function to both training and validation datasets\n",
    "ds_train = ds_train.map(preprocess)\n",
    "ds_validation = ds_validation.map(preprocess)\n",
    "\n",
    "# Apply the augmentation only to the training dataset\n",
    "ds_train = ds_train.map(augment)\n",
    "\n",
    "# Shuffle, batch, and prefetch the training dataset for optimal training speed\n",
    "BUFFER_SIZE = 1000\n",
    "BATCH_SIZE = 16\n",
    "\n",
    "ds_train = ds_train.shuffle(BUFFER_SIZE).batch(BATCH_SIZE).prefetch(tf.data.AUTOTUNE)\n",
    "ds_validation = ds_validation.batch(BATCH_SIZE).prefetch(tf.data.AUTOTUNE)\n",
    "\n",
    "# Now, ds_train and ds_validation are ready to be used in a model"
   ]
  },
  {
   "cell_type": "code",
   "execution_count": 6,
   "outputs": [
    {
     "name": "stderr",
     "output_type": "stream",
     "text": [
      "/home/fox_white/PycharmProjects/numeric/venv/lib/python3.11/site-packages/keras/src/optimizers/legacy/rmsprop.py:144: UserWarning: The `lr` argument is deprecated, use `learning_rate` instead.\n",
      "  super().__init__(name, **kwargs)\n"
     ]
    }
   ],
   "source": [
    "from keras.src.optimizers import RMSprop\n",
    "\n",
    "model = tf.keras.models.Sequential([\n",
    "    tf.keras.layers.Conv2D(32, (3, 3), activation='relu', input_shape=(160, 160, 3)),\n",
    "    tf.keras.layers.MaxPooling2D(2, 2),\n",
    "    tf.keras.layers.Conv2D(64, (3, 3), activation='relu'),\n",
    "    tf.keras.layers.MaxPooling2D(2, 2),\n",
    "    tf.keras.layers.Conv2D(128, (3, 3), activation='relu'),\n",
    "    tf.keras.layers.MaxPooling2D(2, 2),\n",
    "    tf.keras.layers.Dropout(0.5), \n",
    "    tf.keras.layers.Flatten(),\n",
    "    tf.keras.layers.Dense(512, activation='relu'),\n",
    "    tf.keras.layers.Dense(1, activation='sigmoid')\n",
    "])\n",
    "model.compile(\n",
    "    loss='binary_crossentropy',\n",
    "    optimizer=RMSprop(lr=1e-4),\n",
    "    metrics=['acc']\n",
    ")"
   ],
   "metadata": {
    "collapsed": false,
    "ExecuteTime": {
     "end_time": "2023-12-01T09:57:51.182166165Z",
     "start_time": "2023-12-01T09:57:51.126346534Z"
    }
   },
   "id": "7056dac001fb6cf5"
  },
  {
   "cell_type": "code",
   "execution_count": 7,
   "outputs": [
    {
     "name": "stdout",
     "output_type": "stream",
     "text": [
      "Epoch 1/50\n"
     ]
    },
    {
     "name": "stderr",
     "output_type": "stream",
     "text": [
      "2023-12-01 17:57:51.729141: E tensorflow/core/grappler/optimizers/meta_optimizer.cc:961] layout failed: INVALID_ARGUMENT: Size of values 0 does not match size of permutation 4 @ fanin shape insequential_1/dropout_1/dropout/SelectV2-2-TransposeNHWCToNCHW-LayoutOptimizer\n"
     ]
    },
    {
     "name": "stdout",
     "output_type": "stream",
     "text": [
      "20/20 [==============================] - 3s 47ms/step - loss: 0.7172 - acc: 0.4781 - val_loss: 0.6994 - val_acc: 0.4563\n",
      "Epoch 2/50\n",
      " 3/20 [===>..........................] - ETA: 0s - loss: 0.6996 - acc: 0.4792"
     ]
    },
    {
     "name": "stderr",
     "output_type": "stream",
     "text": [
      "Corrupt JPEG data: 162 extraneous bytes before marker 0xd9\n"
     ]
    },
    {
     "name": "stdout",
     "output_type": "stream",
     "text": [
      "20/20 [==============================] - 1s 41ms/step - loss: 0.6963 - acc: 0.4812 - val_loss: 0.7138 - val_acc: 0.4313\n",
      "Epoch 3/50\n",
      " 3/20 [===>..........................] - ETA: 0s - loss: 0.7011 - acc: 0.5000"
     ]
    },
    {
     "name": "stderr",
     "output_type": "stream",
     "text": [
      "Corrupt JPEG data: 162 extraneous bytes before marker 0xd9\n"
     ]
    },
    {
     "name": "stdout",
     "output_type": "stream",
     "text": [
      "20/20 [==============================] - 1s 40ms/step - loss: 0.6979 - acc: 0.4812 - val_loss: 0.6795 - val_acc: 0.6062\n",
      "Epoch 4/50\n",
      " 5/20 [======>.......................] - ETA: 0s - loss: 0.6871 - acc: 0.5500"
     ]
    },
    {
     "name": "stderr",
     "output_type": "stream",
     "text": [
      "Corrupt JPEG data: 162 extraneous bytes before marker 0xd9\n"
     ]
    },
    {
     "name": "stdout",
     "output_type": "stream",
     "text": [
      "20/20 [==============================] - 1s 41ms/step - loss: 0.6847 - acc: 0.5406 - val_loss: 0.6929 - val_acc: 0.5188\n",
      "Epoch 5/50\n",
      " 3/20 [===>..........................] - ETA: 0s - loss: 0.6858 - acc: 0.5208"
     ]
    },
    {
     "name": "stderr",
     "output_type": "stream",
     "text": [
      "Corrupt JPEG data: 162 extraneous bytes before marker 0xd9\n"
     ]
    },
    {
     "name": "stdout",
     "output_type": "stream",
     "text": [
      "20/20 [==============================] - 1s 40ms/step - loss: 0.6757 - acc: 0.5719 - val_loss: 0.7048 - val_acc: 0.5312\n",
      "Epoch 6/50\n",
      " 5/20 [======>.......................] - ETA: 0s - loss: 0.7076 - acc: 0.5000"
     ]
    },
    {
     "name": "stderr",
     "output_type": "stream",
     "text": [
      "Corrupt JPEG data: 162 extraneous bytes before marker 0xd9\n"
     ]
    },
    {
     "name": "stdout",
     "output_type": "stream",
     "text": [
      "20/20 [==============================] - 1s 40ms/step - loss: 0.6651 - acc: 0.5906 - val_loss: 0.6691 - val_acc: 0.5875\n",
      "Epoch 7/50\n",
      " 5/20 [======>.......................] - ETA: 0s - loss: 0.7172 - acc: 0.4375"
     ]
    },
    {
     "name": "stderr",
     "output_type": "stream",
     "text": [
      "Corrupt JPEG data: 162 extraneous bytes before marker 0xd9\n"
     ]
    },
    {
     "name": "stdout",
     "output_type": "stream",
     "text": [
      "20/20 [==============================] - 1s 41ms/step - loss: 0.6512 - acc: 0.6062 - val_loss: 0.6200 - val_acc: 0.6500\n",
      "Epoch 8/50\n",
      " 3/20 [===>..........................] - ETA: 0s - loss: 0.6573 - acc: 0.5833"
     ]
    },
    {
     "name": "stderr",
     "output_type": "stream",
     "text": [
      "Corrupt JPEG data: 162 extraneous bytes before marker 0xd9\n"
     ]
    },
    {
     "name": "stdout",
     "output_type": "stream",
     "text": [
      "20/20 [==============================] - 1s 40ms/step - loss: 0.6640 - acc: 0.6031 - val_loss: 0.6349 - val_acc: 0.6438\n",
      "Epoch 9/50\n",
      " 3/20 [===>..........................] - ETA: 0s - loss: 0.6781 - acc: 0.5625"
     ]
    },
    {
     "name": "stderr",
     "output_type": "stream",
     "text": [
      "Corrupt JPEG data: 162 extraneous bytes before marker 0xd9\n"
     ]
    },
    {
     "name": "stdout",
     "output_type": "stream",
     "text": [
      "20/20 [==============================] - 1s 40ms/step - loss: 0.6408 - acc: 0.6375 - val_loss: 0.6179 - val_acc: 0.5813\n",
      "Epoch 10/50\n",
      " 5/20 [======>.......................] - ETA: 0s - loss: 0.6711 - acc: 0.5750"
     ]
    },
    {
     "name": "stderr",
     "output_type": "stream",
     "text": [
      "Corrupt JPEG data: 162 extraneous bytes before marker 0xd9\n"
     ]
    },
    {
     "name": "stdout",
     "output_type": "stream",
     "text": [
      "20/20 [==============================] - 1s 41ms/step - loss: 0.6670 - acc: 0.6125 - val_loss: 0.6276 - val_acc: 0.6313\n",
      "Epoch 11/50\n",
      " 3/20 [===>..........................] - ETA: 0s - loss: 0.5880 - acc: 0.6250"
     ]
    },
    {
     "name": "stderr",
     "output_type": "stream",
     "text": [
      "Corrupt JPEG data: 162 extraneous bytes before marker 0xd9\n"
     ]
    },
    {
     "name": "stdout",
     "output_type": "stream",
     "text": [
      "20/20 [==============================] - 1s 40ms/step - loss: 0.6093 - acc: 0.6781 - val_loss: 0.6020 - val_acc: 0.6875\n",
      "Epoch 12/50\n",
      " 3/20 [===>..........................] - ETA: 0s - loss: 0.6731 - acc: 0.5625"
     ]
    },
    {
     "name": "stderr",
     "output_type": "stream",
     "text": [
      "Corrupt JPEG data: 162 extraneous bytes before marker 0xd9\n"
     ]
    },
    {
     "name": "stdout",
     "output_type": "stream",
     "text": [
      "20/20 [==============================] - 1s 40ms/step - loss: 0.6334 - acc: 0.6406 - val_loss: 0.5802 - val_acc: 0.7250\n",
      "Epoch 13/50\n",
      " 3/20 [===>..........................] - ETA: 0s - loss: 0.6420 - acc: 0.5417"
     ]
    },
    {
     "name": "stderr",
     "output_type": "stream",
     "text": [
      "Corrupt JPEG data: 162 extraneous bytes before marker 0xd9\n"
     ]
    },
    {
     "name": "stdout",
     "output_type": "stream",
     "text": [
      "20/20 [==============================] - 1s 41ms/step - loss: 0.6102 - acc: 0.6625 - val_loss: 0.5787 - val_acc: 0.7125\n",
      "Epoch 14/50\n",
      " 3/20 [===>..........................] - ETA: 0s - loss: 0.6167 - acc: 0.6875"
     ]
    },
    {
     "name": "stderr",
     "output_type": "stream",
     "text": [
      "Corrupt JPEG data: 162 extraneous bytes before marker 0xd9\n"
     ]
    },
    {
     "name": "stdout",
     "output_type": "stream",
     "text": [
      "20/20 [==============================] - 1s 41ms/step - loss: 0.6166 - acc: 0.6562 - val_loss: 0.5691 - val_acc: 0.7063\n",
      "Epoch 15/50\n",
      " 3/20 [===>..........................] - ETA: 0s - loss: 0.7096 - acc: 0.6250"
     ]
    },
    {
     "name": "stderr",
     "output_type": "stream",
     "text": [
      "Corrupt JPEG data: 162 extraneous bytes before marker 0xd9\n"
     ]
    },
    {
     "name": "stdout",
     "output_type": "stream",
     "text": [
      "20/20 [==============================] - 1s 41ms/step - loss: 0.6324 - acc: 0.6719 - val_loss: 0.5673 - val_acc: 0.7063\n",
      "Epoch 16/50\n",
      " 3/20 [===>..........................] - ETA: 0s - loss: 0.5443 - acc: 0.7292"
     ]
    },
    {
     "name": "stderr",
     "output_type": "stream",
     "text": [
      "Corrupt JPEG data: 162 extraneous bytes before marker 0xd9\n"
     ]
    },
    {
     "name": "stdout",
     "output_type": "stream",
     "text": [
      "20/20 [==============================] - 1s 41ms/step - loss: 0.6036 - acc: 0.6187 - val_loss: 0.5792 - val_acc: 0.7500\n",
      "Epoch 17/50\n",
      " 3/20 [===>..........................] - ETA: 0s - loss: 0.6270 - acc: 0.6667"
     ]
    },
    {
     "name": "stderr",
     "output_type": "stream",
     "text": [
      "Corrupt JPEG data: 162 extraneous bytes before marker 0xd9\n"
     ]
    },
    {
     "name": "stdout",
     "output_type": "stream",
     "text": [
      "15/20 [=====================>........] - ETA: 0s - loss: 0.6220 - acc: 0.6667"
     ]
    },
    {
     "name": "stderr",
     "output_type": "stream",
     "text": [
      "Corrupt JPEG data: 99 extraneous bytes before marker 0xd9\n"
     ]
    },
    {
     "name": "stdout",
     "output_type": "stream",
     "text": [
      "20/20 [==============================] - 1s 41ms/step - loss: 0.6160 - acc: 0.6750 - val_loss: 0.6189 - val_acc: 0.6250\n",
      "Epoch 18/50\n",
      " 3/20 [===>..........................] - ETA: 0s - loss: 0.5840 - acc: 0.7292"
     ]
    },
    {
     "name": "stderr",
     "output_type": "stream",
     "text": [
      "Corrupt JPEG data: 162 extraneous bytes before marker 0xd9\n"
     ]
    },
    {
     "name": "stdout",
     "output_type": "stream",
     "text": [
      "20/20 [==============================] - 1s 40ms/step - loss: 0.6267 - acc: 0.6594 - val_loss: 0.5474 - val_acc: 0.7000\n",
      "Epoch 19/50\n",
      " 5/20 [======>.......................] - ETA: 0s - loss: 0.6047 - acc: 0.7000"
     ]
    },
    {
     "name": "stderr",
     "output_type": "stream",
     "text": [
      "Corrupt JPEG data: 162 extraneous bytes before marker 0xd9\n"
     ]
    },
    {
     "name": "stdout",
     "output_type": "stream",
     "text": [
      "20/20 [==============================] - 1s 41ms/step - loss: 0.6148 - acc: 0.6438 - val_loss: 0.5562 - val_acc: 0.7563\n",
      "Epoch 20/50\n",
      " 3/20 [===>..........................] - ETA: 0s - loss: 0.5199 - acc: 0.8542"
     ]
    },
    {
     "name": "stderr",
     "output_type": "stream",
     "text": [
      "Corrupt JPEG data: 162 extraneous bytes before marker 0xd9\n"
     ]
    },
    {
     "name": "stdout",
     "output_type": "stream",
     "text": [
      "19/20 [===========================>..] - ETA: 0s - loss: 0.6248 - acc: 0.6711"
     ]
    },
    {
     "name": "stderr",
     "output_type": "stream",
     "text": [
      "Warning: unknown JFIF revision number 0.00\n"
     ]
    },
    {
     "name": "stdout",
     "output_type": "stream",
     "text": [
      "20/20 [==============================] - 1s 41ms/step - loss: 0.6225 - acc: 0.6719 - val_loss: 0.5890 - val_acc: 0.7125\n",
      "Epoch 21/50\n",
      " 5/20 [======>.......................] - ETA: 0s - loss: 0.6025 - acc: 0.6125"
     ]
    },
    {
     "name": "stderr",
     "output_type": "stream",
     "text": [
      "Corrupt JPEG data: 162 extraneous bytes before marker 0xd9\n"
     ]
    },
    {
     "name": "stdout",
     "output_type": "stream",
     "text": [
      "19/20 [===========================>..] - ETA: 0s - loss: 0.6276 - acc: 0.6447"
     ]
    },
    {
     "name": "stderr",
     "output_type": "stream",
     "text": [
      "Corrupt JPEG data: 396 extraneous bytes before marker 0xd9\n"
     ]
    },
    {
     "name": "stdout",
     "output_type": "stream",
     "text": [
      "20/20 [==============================] - 1s 41ms/step - loss: 0.6266 - acc: 0.6469 - val_loss: 0.5583 - val_acc: 0.7250\n",
      "Epoch 22/50\n",
      " 5/20 [======>.......................] - ETA: 0s - loss: 0.5468 - acc: 0.7750"
     ]
    },
    {
     "name": "stderr",
     "output_type": "stream",
     "text": [
      "Corrupt JPEG data: 162 extraneous bytes before marker 0xd9\n"
     ]
    },
    {
     "name": "stdout",
     "output_type": "stream",
     "text": [
      "20/20 [==============================] - 1s 41ms/step - loss: 0.5902 - acc: 0.6969 - val_loss: 0.5441 - val_acc: 0.7188\n",
      "Epoch 23/50\n",
      " 3/20 [===>..........................] - ETA: 0s - loss: 0.5929 - acc: 0.7292"
     ]
    },
    {
     "name": "stderr",
     "output_type": "stream",
     "text": [
      "Corrupt JPEG data: 162 extraneous bytes before marker 0xd9\n"
     ]
    },
    {
     "name": "stdout",
     "output_type": "stream",
     "text": [
      "20/20 [==============================] - 1s 41ms/step - loss: 0.5621 - acc: 0.7219 - val_loss: 0.5510 - val_acc: 0.7563\n",
      "Epoch 24/50\n",
      " 5/20 [======>.......................] - ETA: 0s - loss: 0.5502 - acc: 0.6625"
     ]
    },
    {
     "name": "stderr",
     "output_type": "stream",
     "text": [
      "Corrupt JPEG data: 162 extraneous bytes before marker 0xd9\n"
     ]
    },
    {
     "name": "stdout",
     "output_type": "stream",
     "text": [
      "20/20 [==============================] - 1s 40ms/step - loss: 0.5979 - acc: 0.6469 - val_loss: 0.6019 - val_acc: 0.6625\n",
      "Epoch 25/50\n",
      " 3/20 [===>..........................] - ETA: 0s - loss: 0.6496 - acc: 0.6458"
     ]
    },
    {
     "name": "stderr",
     "output_type": "stream",
     "text": [
      "Corrupt JPEG data: 162 extraneous bytes before marker 0xd9\n"
     ]
    },
    {
     "name": "stdout",
     "output_type": "stream",
     "text": [
      "20/20 [==============================] - 1s 41ms/step - loss: 0.6071 - acc: 0.6687 - val_loss: 0.5562 - val_acc: 0.7750\n",
      "Epoch 26/50\n",
      " 3/20 [===>..........................] - ETA: 0s - loss: 0.5672 - acc: 0.7500"
     ]
    },
    {
     "name": "stderr",
     "output_type": "stream",
     "text": [
      "Corrupt JPEG data: 162 extraneous bytes before marker 0xd9\n"
     ]
    },
    {
     "name": "stdout",
     "output_type": "stream",
     "text": [
      "20/20 [==============================] - 1s 40ms/step - loss: 0.5580 - acc: 0.7094 - val_loss: 0.6085 - val_acc: 0.6313\n",
      "Epoch 27/50\n",
      " 5/20 [======>.......................] - ETA: 0s - loss: 0.6069 - acc: 0.6500"
     ]
    },
    {
     "name": "stderr",
     "output_type": "stream",
     "text": [
      "Corrupt JPEG data: 162 extraneous bytes before marker 0xd9\n"
     ]
    },
    {
     "name": "stdout",
     "output_type": "stream",
     "text": [
      "20/20 [==============================] - 1s 41ms/step - loss: 0.6083 - acc: 0.6687 - val_loss: 0.5874 - val_acc: 0.7250\n",
      "Epoch 28/50\n",
      " 3/20 [===>..........................] - ETA: 0s - loss: 0.5939 - acc: 0.6667"
     ]
    },
    {
     "name": "stderr",
     "output_type": "stream",
     "text": [
      "Corrupt JPEG data: 162 extraneous bytes before marker 0xd9\n"
     ]
    },
    {
     "name": "stdout",
     "output_type": "stream",
     "text": [
      "19/20 [===========================>..] - ETA: 0s - loss: 0.5815 - acc: 0.6612"
     ]
    },
    {
     "name": "stderr",
     "output_type": "stream",
     "text": [
      "Corrupt JPEG data: 65 extraneous bytes before marker 0xd9\n",
      "Corrupt JPEG data: 162 extraneous bytes before marker 0xd9\n"
     ]
    },
    {
     "name": "stdout",
     "output_type": "stream",
     "text": [
      "20/20 [==============================] - 1s 41ms/step - loss: 0.5750 - acc: 0.6687 - val_loss: 0.5733 - val_acc: 0.6812\n",
      "Epoch 29/50\n",
      "20/20 [==============================] - 1s 41ms/step - loss: 0.5699 - acc: 0.6969 - val_loss: 0.5258 - val_acc: 0.7312\n",
      "Epoch 30/50\n",
      " 3/20 [===>..........................] - ETA: 0s - loss: 0.5644 - acc: 0.7083"
     ]
    },
    {
     "name": "stderr",
     "output_type": "stream",
     "text": [
      "Corrupt JPEG data: 162 extraneous bytes before marker 0xd9\n"
     ]
    },
    {
     "name": "stdout",
     "output_type": "stream",
     "text": [
      "20/20 [==============================] - 1s 40ms/step - loss: 0.5659 - acc: 0.7094 - val_loss: 0.5089 - val_acc: 0.7563\n",
      "Epoch 31/50\n",
      " 3/20 [===>..........................] - ETA: 0s - loss: 0.5147 - acc: 0.7292"
     ]
    },
    {
     "name": "stderr",
     "output_type": "stream",
     "text": [
      "Corrupt JPEG data: 162 extraneous bytes before marker 0xd9\n"
     ]
    },
    {
     "name": "stdout",
     "output_type": "stream",
     "text": [
      "20/20 [==============================] - 1s 41ms/step - loss: 0.5732 - acc: 0.6844 - val_loss: 0.5812 - val_acc: 0.7125\n",
      "Epoch 32/50\n",
      " 3/20 [===>..........................] - ETA: 0s - loss: 0.4996 - acc: 0.8542"
     ]
    },
    {
     "name": "stderr",
     "output_type": "stream",
     "text": [
      "Corrupt JPEG data: 162 extraneous bytes before marker 0xd9\n"
     ]
    },
    {
     "name": "stdout",
     "output_type": "stream",
     "text": [
      "20/20 [==============================] - 1s 40ms/step - loss: 0.5418 - acc: 0.7406 - val_loss: 0.5338 - val_acc: 0.7000\n",
      "Epoch 33/50\n",
      " 5/20 [======>.......................] - ETA: 0s - loss: 0.5735 - acc: 0.6750"
     ]
    },
    {
     "name": "stderr",
     "output_type": "stream",
     "text": [
      "Corrupt JPEG data: 162 extraneous bytes before marker 0xd9\n"
     ]
    },
    {
     "name": "stdout",
     "output_type": "stream",
     "text": [
      "20/20 [==============================] - 1s 41ms/step - loss: 0.5659 - acc: 0.7031 - val_loss: 0.5446 - val_acc: 0.7625\n",
      "Epoch 34/50\n",
      " 5/20 [======>.......................] - ETA: 0s - loss: 0.6239 - acc: 0.6375"
     ]
    },
    {
     "name": "stderr",
     "output_type": "stream",
     "text": [
      "Corrupt JPEG data: 162 extraneous bytes before marker 0xd9\n"
     ]
    },
    {
     "name": "stdout",
     "output_type": "stream",
     "text": [
      "20/20 [==============================] - 1s 41ms/step - loss: 0.5956 - acc: 0.6906 - val_loss: 0.5403 - val_acc: 0.7625\n",
      "Epoch 35/50\n",
      " 3/20 [===>..........................] - ETA: 0s - loss: 0.6173 - acc: 0.6667"
     ]
    },
    {
     "name": "stderr",
     "output_type": "stream",
     "text": [
      "Corrupt JPEG data: 162 extraneous bytes before marker 0xd9\n"
     ]
    },
    {
     "name": "stdout",
     "output_type": "stream",
     "text": [
      "20/20 [==============================] - 1s 40ms/step - loss: 0.5934 - acc: 0.6969 - val_loss: 0.6127 - val_acc: 0.6625\n",
      "Epoch 36/50\n",
      " 3/20 [===>..........................] - ETA: 0s - loss: 0.5962 - acc: 0.7708"
     ]
    },
    {
     "name": "stderr",
     "output_type": "stream",
     "text": [
      "Corrupt JPEG data: 162 extraneous bytes before marker 0xd9\n"
     ]
    },
    {
     "name": "stdout",
     "output_type": "stream",
     "text": [
      "20/20 [==============================] - 1s 40ms/step - loss: 0.5627 - acc: 0.7344 - val_loss: 0.5675 - val_acc: 0.6938\n",
      "Epoch 37/50\n",
      " 5/20 [======>.......................] - ETA: 0s - loss: 0.5523 - acc: 0.7750"
     ]
    },
    {
     "name": "stderr",
     "output_type": "stream",
     "text": [
      "Corrupt JPEG data: 162 extraneous bytes before marker 0xd9\n"
     ]
    },
    {
     "name": "stdout",
     "output_type": "stream",
     "text": [
      "20/20 [==============================] - 1s 41ms/step - loss: 0.5764 - acc: 0.7031 - val_loss: 0.5668 - val_acc: 0.7125\n",
      "Epoch 38/50\n",
      " 5/20 [======>.......................] - ETA: 0s - loss: 0.5866 - acc: 0.7000"
     ]
    },
    {
     "name": "stderr",
     "output_type": "stream",
     "text": [
      "Corrupt JPEG data: 162 extraneous bytes before marker 0xd9\n"
     ]
    },
    {
     "name": "stdout",
     "output_type": "stream",
     "text": [
      "20/20 [==============================] - 1s 41ms/step - loss: 0.5548 - acc: 0.7125 - val_loss: 0.5121 - val_acc: 0.7563\n",
      "Epoch 39/50\n",
      " 3/20 [===>..........................] - ETA: 0s - loss: 0.5234 - acc: 0.7500"
     ]
    },
    {
     "name": "stderr",
     "output_type": "stream",
     "text": [
      "Corrupt JPEG data: 162 extraneous bytes before marker 0xd9\n"
     ]
    },
    {
     "name": "stdout",
     "output_type": "stream",
     "text": [
      "20/20 [==============================] - 1s 41ms/step - loss: 0.5611 - acc: 0.7281 - val_loss: 0.5049 - val_acc: 0.7375\n",
      "Epoch 40/50\n",
      " 3/20 [===>..........................] - ETA: 0s - loss: 0.6253 - acc: 0.6458"
     ]
    },
    {
     "name": "stderr",
     "output_type": "stream",
     "text": [
      "Corrupt JPEG data: 162 extraneous bytes before marker 0xd9\n"
     ]
    },
    {
     "name": "stdout",
     "output_type": "stream",
     "text": [
      "20/20 [==============================] - 1s 41ms/step - loss: 0.5697 - acc: 0.7125 - val_loss: 0.5006 - val_acc: 0.7937\n",
      "Epoch 41/50\n",
      " 3/20 [===>..........................] - ETA: 0s - loss: 0.6395 - acc: 0.6250"
     ]
    },
    {
     "name": "stderr",
     "output_type": "stream",
     "text": [
      "Corrupt JPEG data: 162 extraneous bytes before marker 0xd9\n"
     ]
    },
    {
     "name": "stdout",
     "output_type": "stream",
     "text": [
      "20/20 [==============================] - 1s 41ms/step - loss: 0.5254 - acc: 0.7281 - val_loss: 0.4909 - val_acc: 0.7875\n",
      "Epoch 42/50\n",
      " 3/20 [===>..........................] - ETA: 0s - loss: 0.4434 - acc: 0.8125"
     ]
    },
    {
     "name": "stderr",
     "output_type": "stream",
     "text": [
      "Corrupt JPEG data: 162 extraneous bytes before marker 0xd9\n"
     ]
    },
    {
     "name": "stdout",
     "output_type": "stream",
     "text": [
      "20/20 [==============================] - 1s 41ms/step - loss: 0.5436 - acc: 0.7344 - val_loss: 0.5332 - val_acc: 0.7312\n",
      "Epoch 43/50\n",
      " 3/20 [===>..........................] - ETA: 0s - loss: 0.5331 - acc: 0.7708"
     ]
    },
    {
     "name": "stderr",
     "output_type": "stream",
     "text": [
      "Corrupt JPEG data: 162 extraneous bytes before marker 0xd9\n"
     ]
    },
    {
     "name": "stdout",
     "output_type": "stream",
     "text": [
      "20/20 [==============================] - 1s 41ms/step - loss: 0.5049 - acc: 0.7406 - val_loss: 0.4980 - val_acc: 0.7812\n",
      "Epoch 44/50\n",
      " 5/20 [======>.......................] - ETA: 0s - loss: 0.4872 - acc: 0.7500"
     ]
    },
    {
     "name": "stderr",
     "output_type": "stream",
     "text": [
      "Corrupt JPEG data: 162 extraneous bytes before marker 0xd9\n"
     ]
    },
    {
     "name": "stdout",
     "output_type": "stream",
     "text": [
      "20/20 [==============================] - 1s 41ms/step - loss: 0.5457 - acc: 0.7469 - val_loss: 0.5160 - val_acc: 0.7063\n",
      "Epoch 45/50\n",
      " 3/20 [===>..........................] - ETA: 0s - loss: 0.6471 - acc: 0.7292"
     ]
    },
    {
     "name": "stderr",
     "output_type": "stream",
     "text": [
      "Corrupt JPEG data: 162 extraneous bytes before marker 0xd9\n"
     ]
    },
    {
     "name": "stdout",
     "output_type": "stream",
     "text": [
      "20/20 [==============================] - 1s 41ms/step - loss: 0.5672 - acc: 0.7031 - val_loss: 0.5335 - val_acc: 0.7688\n",
      "Epoch 46/50\n",
      " 3/20 [===>..........................] - ETA: 0s - loss: 0.4728 - acc: 0.7500"
     ]
    },
    {
     "name": "stderr",
     "output_type": "stream",
     "text": [
      "Corrupt JPEG data: 162 extraneous bytes before marker 0xd9\n"
     ]
    },
    {
     "name": "stdout",
     "output_type": "stream",
     "text": [
      "20/20 [==============================] - 1s 41ms/step - loss: 0.5724 - acc: 0.7188 - val_loss: 0.5291 - val_acc: 0.7563\n",
      "Epoch 47/50\n",
      " 3/20 [===>..........................] - ETA: 0s - loss: 0.4944 - acc: 0.7292"
     ]
    },
    {
     "name": "stderr",
     "output_type": "stream",
     "text": [
      "Corrupt JPEG data: 162 extraneous bytes before marker 0xd9\n"
     ]
    },
    {
     "name": "stdout",
     "output_type": "stream",
     "text": [
      "20/20 [==============================] - 1s 40ms/step - loss: 0.5351 - acc: 0.7094 - val_loss: 0.6533 - val_acc: 0.6000\n",
      "Epoch 48/50\n",
      " 3/20 [===>..........................] - ETA: 0s - loss: 0.6337 - acc: 0.6458"
     ]
    },
    {
     "name": "stderr",
     "output_type": "stream",
     "text": [
      "Corrupt JPEG data: 162 extraneous bytes before marker 0xd9\n"
     ]
    },
    {
     "name": "stdout",
     "output_type": "stream",
     "text": [
      "20/20 [==============================] - 1s 41ms/step - loss: 0.5260 - acc: 0.7563 - val_loss: 0.5720 - val_acc: 0.6625\n",
      "Epoch 49/50\n",
      " 3/20 [===>..........................] - ETA: 0s - loss: 0.6043 - acc: 0.6667"
     ]
    },
    {
     "name": "stderr",
     "output_type": "stream",
     "text": [
      "Corrupt JPEG data: 162 extraneous bytes before marker 0xd9\n"
     ]
    },
    {
     "name": "stdout",
     "output_type": "stream",
     "text": [
      "19/20 [===========================>..] - ETA: 0s - loss: 0.5505 - acc: 0.7138"
     ]
    },
    {
     "name": "stderr",
     "output_type": "stream",
     "text": [
      "Corrupt JPEG data: 2226 extraneous bytes before marker 0xd9\n"
     ]
    },
    {
     "name": "stdout",
     "output_type": "stream",
     "text": [
      "20/20 [==============================] - 1s 41ms/step - loss: 0.5364 - acc: 0.7281 - val_loss: 0.6453 - val_acc: 0.6000\n",
      "Epoch 50/50\n",
      " 3/20 [===>..........................] - ETA: 0s - loss: 0.6177 - acc: 0.6667"
     ]
    },
    {
     "name": "stderr",
     "output_type": "stream",
     "text": [
      "Corrupt JPEG data: 162 extraneous bytes before marker 0xd9\n"
     ]
    },
    {
     "name": "stdout",
     "output_type": "stream",
     "text": [
      "20/20 [==============================] - 1s 41ms/step - loss: 0.5608 - acc: 0.7250 - val_loss: 0.4801 - val_acc: 0.8000\n"
     ]
    },
    {
     "name": "stderr",
     "output_type": "stream",
     "text": [
      "Corrupt JPEG data: 162 extraneous bytes before marker 0xd9\n"
     ]
    }
   ],
   "source": [
    "history = model.fit(\n",
    "    ds_train,  # Training dataset\n",
    "    steps_per_epoch=20,  # Number of steps to run per epoch\n",
    "    epochs=50,  # Number of training epochs, suggested range is [10, 50] or more if the training is fast\n",
    "    validation_data=ds_validation,  # Validation dataset\n",
    "    validation_steps=10,  # Number of steps to run for validation\n",
    "    verbose=1\n",
    ")"
   ],
   "metadata": {
    "collapsed": false,
    "ExecuteTime": {
     "end_time": "2023-12-01T09:58:34.150557816Z",
     "start_time": "2023-12-01T09:57:51.183913850Z"
    }
   },
   "id": "1fd0dce55b36bcad"
  },
  {
   "cell_type": "code",
   "execution_count": 8,
   "outputs": [
    {
     "data": {
      "text/plain": "<Figure size 640x480 with 1 Axes>",
      "image/png": "[encoded data removed]"
     },
     "metadata": {},
     "output_type": "display_data"
    },
    {
     "data": {
      "text/plain": "<Figure size 640x480 with 1 Axes>",
      "image/png": "[encoded data removed]"
     },
     "metadata": {},
     "output_type": "display_data"
    }
   ],
   "source": [
    "from matplotlib import pyplot as plt\n",
    "\n",
    "model.save('model.h5')\n",
    "# 得到精度和损失值\n",
    "acc = history.history['acc'] # train_acc\n",
    "val_acc = history.history['val_acc'] # val_acc\n",
    "loss = history.history['loss'] # train_loss\n",
    "val_loss = history.history['val_loss'] # val_loss\n",
    "epochs = range(len(acc)) # 得到迭代次数\n",
    "# 绘制精度曲线\n",
    "plt.plot(epochs, acc)\n",
    "plt.plot(epochs, val_acc)\n",
    "plt.title('Training and validation accuracy')\n",
    "plt.legend(('Training accuracy', 'validation accuracy'))\n",
    "plt.figure()\n",
    "# 绘制损失曲线\n",
    "plt.plot(epochs, loss)\n",
    "plt.plot(epochs, val_loss)\n",
    "plt.legend(('Training loss', 'validation loss'))\n",
    "plt.title('Training and validation loss')\n",
    "plt.show()"
   ],
   "metadata": {
    "collapsed": false,
    "ExecuteTime": {
     "end_time": "2023-12-01T09:58:34.870683945Z",
     "start_time": "2023-12-01T09:58:34.180321490Z"
    }
   },
   "id": "ec0925cccf08a9ac"
  }
 ],
 "metadata": {
  "kernelspec": {
   "display_name": "Python 3",
   "language": "python",
   "name": "python3"
  },
  "language_info": {
   "codemirror_mode": {
    "name": "ipython",
    "version": 2
   },
   "file_extension": ".py",
   "mimetype": "text/x-python",
   "name": "python",
   "nbconvert_exporter": "python",
   "pygments_lexer": "ipython2",
   "version": "2.7.6"
  }
 },
 "nbformat": 4,
 "nbformat_minor": 5
}
