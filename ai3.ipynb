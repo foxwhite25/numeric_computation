{
 "cells": [
  {
   "cell_type": "markdown",
   "source": [
    "## 加载、预处理、增强以及批量处理\n",
    "\n",
    "1. **加载数据集**：我们利用TensorFlow数据集库（tensorflow_datasets）加载了“猫vs狗”的数据集。数据集被划分为训练集和验证集，其中训练集占据了整体数据的80%，验证集则占据了剩余的20%。\n",
    "\n",
    "2. **设定图像尺寸**：设定了图像的尺寸（IMG_SIZE）为160。这是一个预设的值，根据实际需求进行调整。\n",
    "\n",
    "3. **预处理函数**：定义了一个预处理函数。该函数将图像的数据类型转换为float32，将图像的像素值归一化到0到1的范围内，并将图像的大小调整为预设的尺寸（160x160）。\n",
    "\n",
    "4. **数据增强函数**：定义了一个数据增强函数。该函数通过随机左右翻转图像、调整图像的亮度、对比度以及饱和度等方式，增加了训练数据的多样性，有助于提高模型的泛化能力。\n",
    "\n",
    "5. **应用预处理和数据增强**：将预处理函数应用到训练集和验证集上，同时仅将数据增强函数应用到训练集上。\n",
    "\n",
    "6. **优化训练速度**：对训练集进行了混洗（shuffle），分批（batch）和预加载（prefetch）以优化训练速度。对验证集也进行了分批和预加载。\n",
    "\n",
    "至此，训练集（ds_train）和验证集（ds_validation）已经准备好，可以直接用于模型的训练和验证了。"
   ],
   "metadata": {
    "collapsed": false
   },
   "id": "41c0ab94e2342579"
  },
  {
   "cell_type": "code",
   "execution_count": 9,
   "id": "initial_id",
   "metadata": {
    "collapsed": true,
    "ExecuteTime": {
     "end_time": "2023-12-01T10:24:03.268743760Z",
     "start_time": "2023-12-01T10:24:02.802590487Z"
    }
   },
   "outputs": [],
   "source": [
    "import tensorflow as tf\n",
    "import tensorflow_datasets as tfds\n",
    "\n",
    "# Load the dataset\n",
    "(ds_train, ds_validation), ds_info = tfds.load(\n",
    "    'cats_vs_dogs',\n",
    "    split=['train[:80%]', 'train[80%:]'],\n",
    "    as_supervised=True,\n",
    "    with_info=True,\n",
    ")\n",
    "\n",
    "# Define the size to which you want to resize the images\n",
    "IMG_SIZE = 160\n",
    "\n",
    "# Define the preprocessing function\n",
    "def preprocess(image, label):\n",
    "    image = tf.cast(image, tf.float32)\n",
    "    image = (image / 255.0)\n",
    "    image = tf.image.resize(image, (IMG_SIZE, IMG_SIZE))\n",
    "    return image, label\n",
    "\n",
    "# Define the augmentation function\n",
    "def augment(image, label):\n",
    "    image = tf.image.random_flip_left_right(image)\n",
    "    image = tf.image.random_brightness(image, max_delta=0.2)\n",
    "    image = tf.image.random_contrast(image, lower=0.8, upper=1.2)\n",
    "    image = tf.image.random_saturation(image, lower=0.8, upper=1.2)\n",
    "    # Add more transformations as needed\n",
    "    return image, label\n",
    "\n",
    "# Apply the preprocess function to both training and validation datasets\n",
    "ds_train = ds_train.map(preprocess)\n",
    "ds_validation = ds_validation.map(preprocess)\n",
    "\n",
    "# Apply the augmentation only to the training dataset\n",
    "ds_train = ds_train.map(augment)\n",
    "\n",
    "# Shuffle, batch, and prefetch the training dataset for optimal training speed\n",
    "BUFFER_SIZE = 1000\n",
    "BATCH_SIZE = 16\n",
    "\n",
    "ds_train = ds_train.shuffle(BUFFER_SIZE).batch(BATCH_SIZE).prefetch(tf.data.AUTOTUNE)\n",
    "ds_validation = ds_validation.batch(BATCH_SIZE).prefetch(tf.data.AUTOTUNE)\n",
    "\n",
    "# Now, ds_train and ds_validation are ready to be used in a model"
   ]
  },
  {
   "cell_type": "markdown",
   "source": [
    "## 图像二分类任务的卷积神经网络（Convolutional Neural Network, CNN）模型\n",
    "\n",
    "1. **模型构建**：我们使用了Keras的Sequential API构建模型，这是一种简单且易于理解的模型定义方式，允许我们将一系列网络层线性堆叠起来。\n",
    "\n",
    "2. **第一层 - 卷积层**：模型的第一层是一个卷积层（Conv2D），其使用32个3x3的卷积核，并采用ReLU（Rectified Linear Unit）作为激活函数。这一层的输入形状被设定为160x160x3，这对应于我们之前预处理后的图像尺寸和颜色通道数（RGB）。\n",
    "\n",
    "3. **第二层 - 池化层**：接下来是一个最大池化层（MaxPooling2D），池化窗口的大小为2x2。池化层可以降低特征的空间维度，从而减少计算量并提高模型的泛化能力。\n",
    "\n",
    "4. **接下来的几层**：然后，我们又添加了两个卷积层和最大池化层的组合，其中卷积层的卷积核数量分别为64和128。\n",
    "\n",
    "5. **Dropout层**：接着，我们添加了一个Dropout层，其丢弃率为0.5。Dropout是一种正则化技术，可以防止模型过拟合。\n",
    "\n",
    "6. **展平层**：之后，我们添加了一个展平层（Flatten），用于将多维的卷积特征图展平为一维，以便输入到后面的全连接层。\n",
    "\n",
    "7. **全连接层**：最后，我们添加了两个全连接层（Dense）。第一个全连接层有512个神经元，使用ReLU作为激活函数。第二个全连接层有1个神经元，使用sigmoid作为激活函数，用于输出图像属于“狗”类别的概率。\n",
    "\n",
    "8. **模型编译**：在模型的编译（compile）阶段，我们为模型设置了损失函数、优化器和评估指标。损失函数选择了二元交叉熵（binary_crossentropy），这是二分类问题的常用损失函数。优化器选择了学习率为0.0001的RMSprop优化器。评估指标选择了准确率（accuracy）。"
   ],
   "metadata": {
    "collapsed": false
   },
   "id": "6c86e87988cf61ec"
  },
  {
   "cell_type": "code",
   "execution_count": 10,
   "outputs": [],
   "source": [
    "from keras.src.optimizers import RMSprop\n",
    "\n",
    "model = tf.keras.models.Sequential([\n",
    "    tf.keras.layers.Conv2D(32, (3, 3), activation='relu', input_shape=(160, 160, 3)),\n",
    "    tf.keras.layers.MaxPooling2D(2, 2),\n",
    "    tf.keras.layers.Conv2D(64, (3, 3), activation='relu'),\n",
    "    tf.keras.layers.MaxPooling2D(2, 2),\n",
    "    tf.keras.layers.Conv2D(128, (3, 3), activation='relu'),\n",
    "    tf.keras.layers.MaxPooling2D(2, 2),\n",
    "    tf.keras.layers.Dropout(0.5), \n",
    "    tf.keras.layers.Flatten(),\n",
    "    tf.keras.layers.Dense(512, activation='relu'),\n",
    "    tf.keras.layers.Dense(1, activation='sigmoid')\n",
    "])\n",
    "model.compile(\n",
    "    loss='binary_crossentropy',\n",
    "    optimizer=RMSprop(lr=1e-4),\n",
    "    metrics=['acc']\n",
    ")"
   ],
   "metadata": {
    "collapsed": false,
    "ExecuteTime": {
     "end_time": "2023-12-01T10:24:03.344172811Z",
     "start_time": "2023-12-01T10:24:03.277372858Z"
    }
   },
   "id": "7056dac001fb6cf5"
  },
  {
   "cell_type": "markdown",
   "source": [
    "## 模型训练：\n",
    "\n",
    "使用`model.fit`函数进行模型的训练，其中：\n",
    "\n",
    "   - `ds_train`：训练数据集。\n",
    "   - `steps_per_epoch`：每个训练周期（epoch）的步数，设定为20步。\n",
    "   - `epochs`：训练周期的数量，设定为50个周期。一般来说，训练周期的数量可以根据训练的速度进行调整，建议的范围是10到50个周期，如果训练速度快，可以设定更多的训练周期。\n",
    "   - `validation_data`：验证数据集，设定为`ds_validation`。\n",
    "   - `validation_steps`：每个验证周期的步数，设定为10步。\n",
    "   - `verbose`：训练过程的详细信息展示模式，设定为1表示展示所有信息。\n",
    "\n",
    "此段代码将模型在训练数据集上进行训练，并在每个训练周期结束后在验证数据集上进行验证，以监控模型在未见过的数据上的性能。这有助于我们观察模型是否出现过拟合，并可以根据验证结果调整模型的参数和优化器的学习率。"
   ],
   "metadata": {
    "collapsed": false
   },
   "id": "b82fb7dd0bd3eea8"
  },
  {
   "cell_type": "code",
   "execution_count": 11,
   "outputs": [
    {
     "name": "stdout",
     "output_type": "stream",
     "text": [
      "Epoch 1/50\n"
     ]
    },
    {
     "name": "stderr",
     "output_type": "stream",
     "text": [
      "2023-12-01 18:24:03.905428: E tensorflow/core/grappler/optimizers/meta_optimizer.cc:961] layout failed: INVALID_ARGUMENT: Size of values 0 does not match size of permutation 4 @ fanin shape insequential_2/dropout_2/dropout/SelectV2-2-TransposeNHWCToNCHW-LayoutOptimizer\n"
     ]
    },
    {
     "name": "stdout",
     "output_type": "stream",
     "text": [
      "20/20 [==============================] - 2s 47ms/step - loss: 0.7962 - acc: 0.4906 - val_loss: 0.6938 - val_acc: 0.4375\n",
      "Epoch 2/50\n",
      " 3/20 [===>..........................] - ETA: 0s - loss: 0.6841 - acc: 0.5625"
     ]
    },
    {
     "name": "stderr",
     "output_type": "stream",
     "text": [
      "Corrupt JPEG data: 162 extraneous bytes before marker 0xd9\n"
     ]
    },
    {
     "name": "stdout",
     "output_type": "stream",
     "text": [
      "20/20 [==============================] - 1s 41ms/step - loss: 0.6959 - acc: 0.5281 - val_loss: 0.6784 - val_acc: 0.5688\n",
      "Epoch 3/50\n",
      " 3/20 [===>..........................] - ETA: 0s - loss: 0.7143 - acc: 0.5417"
     ]
    },
    {
     "name": "stderr",
     "output_type": "stream",
     "text": [
      "Corrupt JPEG data: 162 extraneous bytes before marker 0xd9\n"
     ]
    },
    {
     "name": "stdout",
     "output_type": "stream",
     "text": [
      "20/20 [==============================] - 1s 40ms/step - loss: 0.6900 - acc: 0.5500 - val_loss: 0.6743 - val_acc: 0.5875\n",
      "Epoch 4/50\n",
      " 5/20 [======>.......................] - ETA: 0s - loss: 0.6916 - acc: 0.5500"
     ]
    },
    {
     "name": "stderr",
     "output_type": "stream",
     "text": [
      "Corrupt JPEG data: 162 extraneous bytes before marker 0xd9\n"
     ]
    },
    {
     "name": "stdout",
     "output_type": "stream",
     "text": [
      "20/20 [==============================] - 1s 41ms/step - loss: 0.6839 - acc: 0.5437 - val_loss: 0.6845 - val_acc: 0.5250\n",
      "Epoch 5/50\n",
      " 5/20 [======>.......................] - ETA: 0s - loss: 0.6739 - acc: 0.5625"
     ]
    },
    {
     "name": "stderr",
     "output_type": "stream",
     "text": [
      "Corrupt JPEG data: 162 extraneous bytes before marker 0xd9\n"
     ]
    },
    {
     "name": "stdout",
     "output_type": "stream",
     "text": [
      "20/20 [==============================] - 1s 41ms/step - loss: 0.6633 - acc: 0.5688 - val_loss: 0.8634 - val_acc: 0.4313\n",
      "Epoch 6/50\n",
      " 3/20 [===>..........................] - ETA: 0s - loss: 0.7012 - acc: 0.5833"
     ]
    },
    {
     "name": "stderr",
     "output_type": "stream",
     "text": [
      "Corrupt JPEG data: 162 extraneous bytes before marker 0xd9\n"
     ]
    },
    {
     "name": "stdout",
     "output_type": "stream",
     "text": [
      "20/20 [==============================] - 1s 41ms/step - loss: 0.6852 - acc: 0.5344 - val_loss: 0.6782 - val_acc: 0.5562\n",
      "Epoch 7/50\n",
      " 3/20 [===>..........................] - ETA: 0s - loss: 0.6678 - acc: 0.5833"
     ]
    },
    {
     "name": "stderr",
     "output_type": "stream",
     "text": [
      "Corrupt JPEG data: 162 extraneous bytes before marker 0xd9\n"
     ]
    },
    {
     "name": "stdout",
     "output_type": "stream",
     "text": [
      "20/20 [==============================] - 1s 41ms/step - loss: 0.6792 - acc: 0.5781 - val_loss: 0.7472 - val_acc: 0.4375\n",
      "Epoch 8/50\n",
      " 3/20 [===>..........................] - ETA: 0s - loss: 0.6543 - acc: 0.6250"
     ]
    },
    {
     "name": "stderr",
     "output_type": "stream",
     "text": [
      "Corrupt JPEG data: 162 extraneous bytes before marker 0xd9\n"
     ]
    },
    {
     "name": "stdout",
     "output_type": "stream",
     "text": [
      "20/20 [==============================] - 1s 40ms/step - loss: 0.6789 - acc: 0.6125 - val_loss: 0.6638 - val_acc: 0.5813\n",
      "Epoch 9/50\n",
      " 5/20 [======>.......................] - ETA: 0s - loss: 0.6112 - acc: 0.7250"
     ]
    },
    {
     "name": "stderr",
     "output_type": "stream",
     "text": [
      "Corrupt JPEG data: 162 extraneous bytes before marker 0xd9\n"
     ]
    },
    {
     "name": "stdout",
     "output_type": "stream",
     "text": [
      "20/20 [==============================] - 1s 41ms/step - loss: 0.6452 - acc: 0.6375 - val_loss: 0.6326 - val_acc: 0.6500\n",
      "Epoch 10/50\n",
      " 3/20 [===>..........................] - ETA: 0s - loss: 0.6422 - acc: 0.6250"
     ]
    },
    {
     "name": "stderr",
     "output_type": "stream",
     "text": [
      "Corrupt JPEG data: 162 extraneous bytes before marker 0xd9\n"
     ]
    },
    {
     "name": "stdout",
     "output_type": "stream",
     "text": [
      "20/20 [==============================] - 1s 40ms/step - loss: 0.6502 - acc: 0.5969 - val_loss: 0.6718 - val_acc: 0.5750\n",
      "Epoch 11/50\n",
      " 5/20 [======>.......................] - ETA: 0s - loss: 0.6190 - acc: 0.6375"
     ]
    },
    {
     "name": "stderr",
     "output_type": "stream",
     "text": [
      "Corrupt JPEG data: 162 extraneous bytes before marker 0xd9\n"
     ]
    },
    {
     "name": "stdout",
     "output_type": "stream",
     "text": [
      "20/20 [==============================] - 1s 41ms/step - loss: 0.6531 - acc: 0.6031 - val_loss: 0.6110 - val_acc: 0.7125\n",
      "Epoch 12/50\n",
      " 3/20 [===>..........................] - ETA: 0s - loss: 0.6797 - acc: 0.6042"
     ]
    },
    {
     "name": "stderr",
     "output_type": "stream",
     "text": [
      "Corrupt JPEG data: 162 extraneous bytes before marker 0xd9\n"
     ]
    },
    {
     "name": "stdout",
     "output_type": "stream",
     "text": [
      "20/20 [==============================] - 1s 41ms/step - loss: 0.6575 - acc: 0.6438 - val_loss: 0.6040 - val_acc: 0.6938\n",
      "Epoch 13/50\n",
      " 3/20 [===>..........................] - ETA: 0s - loss: 0.6010 - acc: 0.6667"
     ]
    },
    {
     "name": "stderr",
     "output_type": "stream",
     "text": [
      "Corrupt JPEG data: 162 extraneous bytes before marker 0xd9\n"
     ]
    },
    {
     "name": "stdout",
     "output_type": "stream",
     "text": [
      "20/20 [==============================] - 1s 41ms/step - loss: 0.6137 - acc: 0.6687 - val_loss: 0.6012 - val_acc: 0.7000\n",
      "Epoch 14/50\n",
      " 3/20 [===>..........................] - ETA: 0s - loss: 0.6161 - acc: 0.7083"
     ]
    },
    {
     "name": "stderr",
     "output_type": "stream",
     "text": [
      "Corrupt JPEG data: 162 extraneous bytes before marker 0xd9\n"
     ]
    },
    {
     "name": "stdout",
     "output_type": "stream",
     "text": [
      "20/20 [==============================] - 1s 41ms/step - loss: 0.6419 - acc: 0.6500 - val_loss: 0.6004 - val_acc: 0.7063\n",
      "Epoch 15/50\n",
      " 3/20 [===>..........................] - ETA: 0s - loss: 0.6737 - acc: 0.5625"
     ]
    },
    {
     "name": "stderr",
     "output_type": "stream",
     "text": [
      "Corrupt JPEG data: 162 extraneous bytes before marker 0xd9\n"
     ]
    },
    {
     "name": "stdout",
     "output_type": "stream",
     "text": [
      "20/20 [==============================] - 1s 43ms/step - loss: 0.6359 - acc: 0.6469 - val_loss: 0.5849 - val_acc: 0.6938\n",
      "Epoch 16/50\n",
      " 3/20 [===>..........................] - ETA: 0s - loss: 0.6215 - acc: 0.6250"
     ]
    },
    {
     "name": "stderr",
     "output_type": "stream",
     "text": [
      "Corrupt JPEG data: 162 extraneous bytes before marker 0xd9\n"
     ]
    },
    {
     "name": "stdout",
     "output_type": "stream",
     "text": [
      "20/20 [==============================] - 1s 42ms/step - loss: 0.6187 - acc: 0.6562 - val_loss: 0.5881 - val_acc: 0.7312\n",
      "Epoch 17/50\n",
      " 3/20 [===>..........................] - ETA: 0s - loss: 0.5660 - acc: 0.7500"
     ]
    },
    {
     "name": "stderr",
     "output_type": "stream",
     "text": [
      "Corrupt JPEG data: 162 extraneous bytes before marker 0xd9\n"
     ]
    },
    {
     "name": "stdout",
     "output_type": "stream",
     "text": [
      "15/20 [=====================>........] - ETA: 0s - loss: 0.6049 - acc: 0.6792"
     ]
    },
    {
     "name": "stderr",
     "output_type": "stream",
     "text": [
      "Corrupt JPEG data: 99 extraneous bytes before marker 0xd9\n"
     ]
    },
    {
     "name": "stdout",
     "output_type": "stream",
     "text": [
      "20/20 [==============================] - 1s 41ms/step - loss: 0.6103 - acc: 0.6687 - val_loss: 0.6149 - val_acc: 0.6625\n",
      "Epoch 18/50\n",
      " 3/20 [===>..........................] - ETA: 0s - loss: 0.5490 - acc: 0.7500"
     ]
    },
    {
     "name": "stderr",
     "output_type": "stream",
     "text": [
      "Corrupt JPEG data: 162 extraneous bytes before marker 0xd9\n"
     ]
    },
    {
     "name": "stdout",
     "output_type": "stream",
     "text": [
      "20/20 [==============================] - 1s 41ms/step - loss: 0.5957 - acc: 0.6594 - val_loss: 0.5923 - val_acc: 0.6750\n",
      "Epoch 19/50\n",
      " 3/20 [===>..........................] - ETA: 0s - loss: 0.7324 - acc: 0.5208"
     ]
    },
    {
     "name": "stderr",
     "output_type": "stream",
     "text": [
      "Corrupt JPEG data: 162 extraneous bytes before marker 0xd9\n"
     ]
    },
    {
     "name": "stdout",
     "output_type": "stream",
     "text": [
      "20/20 [==============================] - 1s 42ms/step - loss: 0.6390 - acc: 0.6375 - val_loss: 0.5818 - val_acc: 0.6938\n",
      "Epoch 20/50\n",
      " 3/20 [===>..........................] - ETA: 0s - loss: 0.5956 - acc: 0.6875"
     ]
    },
    {
     "name": "stderr",
     "output_type": "stream",
     "text": [
      "Corrupt JPEG data: 162 extraneous bytes before marker 0xd9\n"
     ]
    },
    {
     "name": "stdout",
     "output_type": "stream",
     "text": [
      "19/20 [===========================>..] - ETA: 0s - loss: 0.5923 - acc: 0.6974"
     ]
    },
    {
     "name": "stderr",
     "output_type": "stream",
     "text": [
      "Warning: unknown JFIF revision number 0.00\n"
     ]
    },
    {
     "name": "stdout",
     "output_type": "stream",
     "text": [
      "20/20 [==============================] - 1s 41ms/step - loss: 0.5973 - acc: 0.6969 - val_loss: 0.5596 - val_acc: 0.6500\n",
      "Epoch 21/50\n",
      " 3/20 [===>..........................] - ETA: 0s - loss: 0.5630 - acc: 0.6042"
     ]
    },
    {
     "name": "stderr",
     "output_type": "stream",
     "text": [
      "Corrupt JPEG data: 162 extraneous bytes before marker 0xd9\n"
     ]
    },
    {
     "name": "stdout",
     "output_type": "stream",
     "text": [
      "19/20 [===========================>..] - ETA: 0s - loss: 0.5987 - acc: 0.6645"
     ]
    },
    {
     "name": "stderr",
     "output_type": "stream",
     "text": [
      "Corrupt JPEG data: 396 extraneous bytes before marker 0xd9\n"
     ]
    },
    {
     "name": "stdout",
     "output_type": "stream",
     "text": [
      "20/20 [==============================] - 1s 42ms/step - loss: 0.6090 - acc: 0.6531 - val_loss: 0.5586 - val_acc: 0.6875\n",
      "Epoch 22/50\n",
      " 3/20 [===>..........................] - ETA: 0s - loss: 0.6240 - acc: 0.6250"
     ]
    },
    {
     "name": "stderr",
     "output_type": "stream",
     "text": [
      "Corrupt JPEG data: 162 extraneous bytes before marker 0xd9\n"
     ]
    },
    {
     "name": "stdout",
     "output_type": "stream",
     "text": [
      "20/20 [==============================] - 1s 40ms/step - loss: 0.5917 - acc: 0.6750 - val_loss: 0.5480 - val_acc: 0.6875\n",
      "Epoch 23/50\n",
      " 3/20 [===>..........................] - ETA: 0s - loss: 0.5858 - acc: 0.7083"
     ]
    },
    {
     "name": "stderr",
     "output_type": "stream",
     "text": [
      "Corrupt JPEG data: 162 extraneous bytes before marker 0xd9\n"
     ]
    },
    {
     "name": "stdout",
     "output_type": "stream",
     "text": [
      "20/20 [==============================] - 1s 42ms/step - loss: 0.5780 - acc: 0.6938 - val_loss: 0.5274 - val_acc: 0.7563\n",
      "Epoch 24/50\n",
      " 3/20 [===>..........................] - ETA: 0s - loss: 0.6594 - acc: 0.6875"
     ]
    },
    {
     "name": "stderr",
     "output_type": "stream",
     "text": [
      "Corrupt JPEG data: 162 extraneous bytes before marker 0xd9\n"
     ]
    },
    {
     "name": "stdout",
     "output_type": "stream",
     "text": [
      "20/20 [==============================] - 1s 41ms/step - loss: 0.6078 - acc: 0.6469 - val_loss: 0.5153 - val_acc: 0.7625\n",
      "Epoch 25/50\n",
      " 3/20 [===>..........................] - ETA: 0s - loss: 0.5993 - acc: 0.6458"
     ]
    },
    {
     "name": "stderr",
     "output_type": "stream",
     "text": [
      "Corrupt JPEG data: 162 extraneous bytes before marker 0xd9\n"
     ]
    },
    {
     "name": "stdout",
     "output_type": "stream",
     "text": [
      "20/20 [==============================] - 1s 41ms/step - loss: 0.5675 - acc: 0.7094 - val_loss: 0.5156 - val_acc: 0.7750\n",
      "Epoch 26/50\n",
      " 3/20 [===>..........................] - ETA: 0s - loss: 0.5317 - acc: 0.7917"
     ]
    },
    {
     "name": "stderr",
     "output_type": "stream",
     "text": [
      "Corrupt JPEG data: 162 extraneous bytes before marker 0xd9\n"
     ]
    },
    {
     "name": "stdout",
     "output_type": "stream",
     "text": [
      "20/20 [==============================] - 1s 41ms/step - loss: 0.5516 - acc: 0.7375 - val_loss: 0.5986 - val_acc: 0.6438\n",
      "Epoch 27/50\n",
      " 3/20 [===>..........................] - ETA: 0s - loss: 0.4797 - acc: 0.6667"
     ]
    },
    {
     "name": "stderr",
     "output_type": "stream",
     "text": [
      "Corrupt JPEG data: 162 extraneous bytes before marker 0xd9\n"
     ]
    },
    {
     "name": "stdout",
     "output_type": "stream",
     "text": [
      "20/20 [==============================] - 1s 40ms/step - loss: 0.5832 - acc: 0.6750 - val_loss: 0.5256 - val_acc: 0.7688\n",
      "Epoch 28/50\n",
      " 5/20 [======>.......................] - ETA: 0s - loss: 0.5082 - acc: 0.7500"
     ]
    },
    {
     "name": "stderr",
     "output_type": "stream",
     "text": [
      "Corrupt JPEG data: 162 extraneous bytes before marker 0xd9\n"
     ]
    },
    {
     "name": "stdout",
     "output_type": "stream",
     "text": [
      "19/20 [===========================>..] - ETA: 0s - loss: 0.5673 - acc: 0.6875"
     ]
    },
    {
     "name": "stderr",
     "output_type": "stream",
     "text": [
      "Corrupt JPEG data: 65 extraneous bytes before marker 0xd9\n",
      "Corrupt JPEG data: 162 extraneous bytes before marker 0xd9\n"
     ]
    },
    {
     "name": "stdout",
     "output_type": "stream",
     "text": [
      "20/20 [==============================] - 1s 41ms/step - loss: 0.5715 - acc: 0.6844 - val_loss: 0.5366 - val_acc: 0.7688\n",
      "Epoch 29/50\n",
      "20/20 [==============================] - 1s 40ms/step - loss: 0.5773 - acc: 0.6875 - val_loss: 0.5181 - val_acc: 0.7437\n",
      "Epoch 30/50\n",
      " 5/20 [======>.......................] - ETA: 0s - loss: 0.5029 - acc: 0.7000"
     ]
    },
    {
     "name": "stderr",
     "output_type": "stream",
     "text": [
      "Corrupt JPEG data: 162 extraneous bytes before marker 0xd9\n"
     ]
    },
    {
     "name": "stdout",
     "output_type": "stream",
     "text": [
      "20/20 [==============================] - 1s 41ms/step - loss: 0.5726 - acc: 0.7125 - val_loss: 0.5278 - val_acc: 0.7625\n",
      "Epoch 31/50\n",
      " 3/20 [===>..........................] - ETA: 0s - loss: 0.5457 - acc: 0.7500"
     ]
    },
    {
     "name": "stderr",
     "output_type": "stream",
     "text": [
      "Corrupt JPEG data: 162 extraneous bytes before marker 0xd9\n"
     ]
    },
    {
     "name": "stdout",
     "output_type": "stream",
     "text": [
      "20/20 [==============================] - 1s 46ms/step - loss: 0.6025 - acc: 0.7094 - val_loss: 0.4985 - val_acc: 0.8125\n",
      "Epoch 32/50\n",
      " 3/20 [===>..........................] - ETA: 0s - loss: 0.5181 - acc: 0.7083"
     ]
    },
    {
     "name": "stderr",
     "output_type": "stream",
     "text": [
      "Corrupt JPEG data: 162 extraneous bytes before marker 0xd9\n"
     ]
    },
    {
     "name": "stdout",
     "output_type": "stream",
     "text": [
      "20/20 [==============================] - 1s 42ms/step - loss: 0.5769 - acc: 0.7000 - val_loss: 0.5156 - val_acc: 0.8188\n",
      "Epoch 33/50\n",
      " 5/20 [======>.......................] - ETA: 0s - loss: 0.5434 - acc: 0.7125"
     ]
    },
    {
     "name": "stderr",
     "output_type": "stream",
     "text": [
      "Corrupt JPEG data: 162 extraneous bytes before marker 0xd9\n"
     ]
    },
    {
     "name": "stdout",
     "output_type": "stream",
     "text": [
      "20/20 [==============================] - 1s 41ms/step - loss: 0.5529 - acc: 0.7031 - val_loss: 0.5238 - val_acc: 0.7125\n",
      "Epoch 34/50\n",
      " 3/20 [===>..........................] - ETA: 0s - loss: 0.6615 - acc: 0.6250"
     ]
    },
    {
     "name": "stderr",
     "output_type": "stream",
     "text": [
      "Corrupt JPEG data: 162 extraneous bytes before marker 0xd9\n"
     ]
    },
    {
     "name": "stdout",
     "output_type": "stream",
     "text": [
      "20/20 [==============================] - 1s 41ms/step - loss: 0.5776 - acc: 0.6875 - val_loss: 0.5714 - val_acc: 0.6938\n",
      "Epoch 35/50\n",
      " 3/20 [===>..........................] - ETA: 0s - loss: 0.5753 - acc: 0.7292"
     ]
    },
    {
     "name": "stderr",
     "output_type": "stream",
     "text": [
      "Corrupt JPEG data: 162 extraneous bytes before marker 0xd9\n"
     ]
    },
    {
     "name": "stdout",
     "output_type": "stream",
     "text": [
      "20/20 [==============================] - 1s 41ms/step - loss: 0.5705 - acc: 0.7281 - val_loss: 0.5262 - val_acc: 0.7125\n",
      "Epoch 36/50\n",
      " 3/20 [===>..........................] - ETA: 0s - loss: 0.5596 - acc: 0.6667"
     ]
    },
    {
     "name": "stderr",
     "output_type": "stream",
     "text": [
      "Corrupt JPEG data: 162 extraneous bytes before marker 0xd9\n"
     ]
    },
    {
     "name": "stdout",
     "output_type": "stream",
     "text": [
      "20/20 [==============================] - 1s 41ms/step - loss: 0.5375 - acc: 0.7469 - val_loss: 0.5043 - val_acc: 0.7625\n",
      "Epoch 37/50\n",
      " 3/20 [===>..........................] - ETA: 0s - loss: 0.5858 - acc: 0.6667"
     ]
    },
    {
     "name": "stderr",
     "output_type": "stream",
     "text": [
      "Corrupt JPEG data: 162 extraneous bytes before marker 0xd9\n"
     ]
    },
    {
     "name": "stdout",
     "output_type": "stream",
     "text": [
      "20/20 [==============================] - 1s 41ms/step - loss: 0.5685 - acc: 0.6938 - val_loss: 0.4995 - val_acc: 0.7937\n",
      "Epoch 38/50\n",
      " 3/20 [===>..........................] - ETA: 0s - loss: 0.6263 - acc: 0.6458"
     ]
    },
    {
     "name": "stderr",
     "output_type": "stream",
     "text": [
      "Corrupt JPEG data: 162 extraneous bytes before marker 0xd9\n"
     ]
    },
    {
     "name": "stdout",
     "output_type": "stream",
     "text": [
      "20/20 [==============================] - 1s 40ms/step - loss: 0.5819 - acc: 0.7188 - val_loss: 0.5155 - val_acc: 0.7312\n",
      "Epoch 39/50\n",
      " 5/20 [======>.......................] - ETA: 0s - loss: 0.4996 - acc: 0.7375"
     ]
    },
    {
     "name": "stderr",
     "output_type": "stream",
     "text": [
      "Corrupt JPEG data: 162 extraneous bytes before marker 0xd9\n"
     ]
    },
    {
     "name": "stdout",
     "output_type": "stream",
     "text": [
      "20/20 [==============================] - 1s 41ms/step - loss: 0.5308 - acc: 0.7188 - val_loss: 0.4784 - val_acc: 0.7875\n",
      "Epoch 40/50\n",
      " 3/20 [===>..........................] - ETA: 0s - loss: 0.4523 - acc: 0.8125"
     ]
    },
    {
     "name": "stderr",
     "output_type": "stream",
     "text": [
      "Corrupt JPEG data: 162 extraneous bytes before marker 0xd9\n"
     ]
    },
    {
     "name": "stdout",
     "output_type": "stream",
     "text": [
      "20/20 [==============================] - 1s 41ms/step - loss: 0.5392 - acc: 0.7531 - val_loss: 0.4866 - val_acc: 0.7500\n",
      "Epoch 41/50\n",
      " 3/20 [===>..........................] - ETA: 0s - loss: 0.6678 - acc: 0.6458"
     ]
    },
    {
     "name": "stderr",
     "output_type": "stream",
     "text": [
      "Corrupt JPEG data: 162 extraneous bytes before marker 0xd9\n"
     ]
    },
    {
     "name": "stdout",
     "output_type": "stream",
     "text": [
      "20/20 [==============================] - 1s 41ms/step - loss: 0.5696 - acc: 0.6875 - val_loss: 0.5495 - val_acc: 0.7250\n",
      "Epoch 42/50\n",
      " 3/20 [===>..........................] - ETA: 0s - loss: 0.5771 - acc: 0.6667"
     ]
    },
    {
     "name": "stderr",
     "output_type": "stream",
     "text": [
      "Corrupt JPEG data: 162 extraneous bytes before marker 0xd9\n"
     ]
    },
    {
     "name": "stdout",
     "output_type": "stream",
     "text": [
      "20/20 [==============================] - 1s 45ms/step - loss: 0.5675 - acc: 0.6938 - val_loss: 0.5058 - val_acc: 0.7812\n",
      "Epoch 43/50\n",
      " 3/20 [===>..........................] - ETA: 0s - loss: 0.3984 - acc: 0.8750"
     ]
    },
    {
     "name": "stderr",
     "output_type": "stream",
     "text": [
      "Corrupt JPEG data: 162 extraneous bytes before marker 0xd9\n"
     ]
    },
    {
     "name": "stdout",
     "output_type": "stream",
     "text": [
      "20/20 [==============================] - 1s 41ms/step - loss: 0.5642 - acc: 0.7250 - val_loss: 0.5142 - val_acc: 0.7563\n",
      "Epoch 44/50\n",
      " 3/20 [===>..........................] - ETA: 0s - loss: 0.5730 - acc: 0.7292"
     ]
    },
    {
     "name": "stderr",
     "output_type": "stream",
     "text": [
      "Corrupt JPEG data: 162 extraneous bytes before marker 0xd9\n"
     ]
    },
    {
     "name": "stdout",
     "output_type": "stream",
     "text": [
      "20/20 [==============================] - 1s 41ms/step - loss: 0.5387 - acc: 0.7312 - val_loss: 0.4841 - val_acc: 0.7688\n",
      "Epoch 45/50\n",
      " 3/20 [===>..........................] - ETA: 0s - loss: 0.4023 - acc: 0.8333"
     ]
    },
    {
     "name": "stderr",
     "output_type": "stream",
     "text": [
      "Corrupt JPEG data: 162 extraneous bytes before marker 0xd9\n"
     ]
    },
    {
     "name": "stdout",
     "output_type": "stream",
     "text": [
      "20/20 [==============================] - 1s 40ms/step - loss: 0.4938 - acc: 0.7344 - val_loss: 0.4683 - val_acc: 0.8062\n",
      "Epoch 46/50\n",
      " 5/20 [======>.......................] - ETA: 0s - loss: 0.5771 - acc: 0.7375"
     ]
    },
    {
     "name": "stderr",
     "output_type": "stream",
     "text": [
      "Corrupt JPEG data: 162 extraneous bytes before marker 0xd9\n"
     ]
    },
    {
     "name": "stdout",
     "output_type": "stream",
     "text": [
      "20/20 [==============================] - 1s 41ms/step - loss: 0.5644 - acc: 0.7437 - val_loss: 0.5528 - val_acc: 0.7063\n",
      "Epoch 47/50\n",
      " 3/20 [===>..........................] - ETA: 0s - loss: 0.5264 - acc: 0.7083"
     ]
    },
    {
     "name": "stderr",
     "output_type": "stream",
     "text": [
      "Corrupt JPEG data: 162 extraneous bytes before marker 0xd9\n"
     ]
    },
    {
     "name": "stdout",
     "output_type": "stream",
     "text": [
      "20/20 [==============================] - 1s 41ms/step - loss: 0.5754 - acc: 0.7063 - val_loss: 0.4680 - val_acc: 0.8062\n",
      "Epoch 48/50\n",
      " 3/20 [===>..........................] - ETA: 0s - loss: 0.5996 - acc: 0.7083"
     ]
    },
    {
     "name": "stderr",
     "output_type": "stream",
     "text": [
      "Corrupt JPEG data: 162 extraneous bytes before marker 0xd9\n"
     ]
    },
    {
     "name": "stdout",
     "output_type": "stream",
     "text": [
      "20/20 [==============================] - 1s 41ms/step - loss: 0.5865 - acc: 0.6844 - val_loss: 0.4818 - val_acc: 0.7937\n",
      "Epoch 49/50\n",
      " 3/20 [===>..........................] - ETA: 0s - loss: 0.5711 - acc: 0.7083"
     ]
    },
    {
     "name": "stderr",
     "output_type": "stream",
     "text": [
      "Corrupt JPEG data: 162 extraneous bytes before marker 0xd9\n"
     ]
    },
    {
     "name": "stdout",
     "output_type": "stream",
     "text": [
      "19/20 [===========================>..] - ETA: 0s - loss: 0.5440 - acc: 0.7105"
     ]
    },
    {
     "name": "stderr",
     "output_type": "stream",
     "text": [
      "Corrupt JPEG data: 2226 extraneous bytes before marker 0xd9\n"
     ]
    },
    {
     "name": "stdout",
     "output_type": "stream",
     "text": [
      "20/20 [==============================] - 1s 41ms/step - loss: 0.5621 - acc: 0.7031 - val_loss: 0.4772 - val_acc: 0.8000\n",
      "Epoch 50/50\n",
      " 3/20 [===>..........................] - ETA: 0s - loss: 0.5122 - acc: 0.7500"
     ]
    },
    {
     "name": "stderr",
     "output_type": "stream",
     "text": [
      "Corrupt JPEG data: 162 extraneous bytes before marker 0xd9\n"
     ]
    },
    {
     "name": "stdout",
     "output_type": "stream",
     "text": [
      "20/20 [==============================] - 1s 41ms/step - loss: 0.5286 - acc: 0.7437 - val_loss: 0.4830 - val_acc: 0.7812\n"
     ]
    },
    {
     "name": "stderr",
     "output_type": "stream",
     "text": [
      "Corrupt JPEG data: 162 extraneous bytes before marker 0xd9\n"
     ]
    }
   ],
   "source": [
    "history = model.fit(\n",
    "    ds_train,  # Training dataset\n",
    "    steps_per_epoch=20,  # Number of steps to run per epoch\n",
    "    epochs=50,  # Number of training epochs, suggested range is [10, 50] or more if the training is fast\n",
    "    validation_data=ds_validation,  # Validation dataset\n",
    "    validation_steps=10,  # Number of steps to run for validation\n",
    "    verbose=1\n",
    ")"
   ],
   "metadata": {
    "collapsed": false,
    "ExecuteTime": {
     "end_time": "2023-12-01T10:24:45.477944205Z",
     "start_time": "2023-12-01T10:24:03.345395615Z"
    }
   },
   "id": "1fd0dce55b36bcad"
  },
  {
   "cell_type": "markdown",
   "source": [
    "## 保存模型和绘制训练和验证过程中的精度和损失曲线\n",
    "\n",
    "1. **保存模型**：使用`model.save`函数将训练好的模型保存为'H5'格式的文件，文件名为'model.h5'。\n",
    "\n",
    "2. **获取精度和损失值**：从`history.history`中获取训练和验证过程中的精度和损失值。其中：\n",
    "\n",
    "   - `acc`：训练精度。\n",
    "   - `val_acc`：验证精度。\n",
    "   - `loss`：训练损失。\n",
    "   - `val_loss`：验证损失。\n",
    "   - `epochs`：训练周期数，通过获取精度列表的长度得到。\n",
    "\n",
    "3. **绘制精度曲线**：使用`matplotlib.pyplot`的`plot`函数绘制训练和验证精度随训练周期变化的曲线。`title`函数用于设置图表的标题，`legend`函数用于设置图例。\n",
    "\n",
    "4. **绘制损失曲线**：同样使用`matplotlib.pyplot`的`plot`函数绘制训练和验证损失随训练周期变化的曲线。`title`函数用于设置图表的标题，`legend`函数用于设置图例。\n",
    "\n",
    "5. **显示图表**：使用`show`函数显示图表。\n",
    "\n",
    "此段代码可以帮助我们更直观地观察模型在训练和验证过程中精度和损失的变化情况，从而更好地理解模型的学习情况，如是否出现过拟合或欠拟合等问题。"
   ],
   "metadata": {
    "collapsed": false
   },
   "id": "39c1f2a431814481"
  },
  {
   "cell_type": "code",
   "execution_count": 12,
   "outputs": [
    {
     "data": {
      "text/plain": "<Figure size 640x480 with 1 Axes>",
      "image/png": "[encoded data removed]"
     },
     "metadata": {},
     "output_type": "display_data"
    },
    {
     "data": {
      "text/plain": "<Figure size 640x480 with 1 Axes>",
      "image/png": "[encoded data removed]"
     },
     "metadata": {},
     "output_type": "display_data"
    }
   ],
   "source": [
    "from matplotlib import pyplot as plt\n",
    "\n",
    "model.save('model.h5')\n",
    "# 得到精度和损失值\n",
    "acc = history.history['acc'] # train_acc\n",
    "val_acc = history.history['val_acc'] # val_acc\n",
    "loss = history.history['loss'] # train_loss\n",
    "val_loss = history.history['val_loss'] # val_loss\n",
    "epochs = range(len(acc)) # 得到迭代次数\n",
    "# 绘制精度曲线\n",
    "plt.plot(epochs, acc)\n",
    "plt.plot(epochs, val_acc)\n",
    "plt.title('Training and validation accuracy')\n",
    "plt.legend(('Training accuracy', 'validation accuracy'))\n",
    "plt.figure()\n",
    "# 绘制损失曲线\n",
    "plt.plot(epochs, loss)\n",
    "plt.plot(epochs, val_loss)\n",
    "plt.legend(('Training loss', 'validation loss'))\n",
    "plt.title('Training and validation loss')\n",
    "plt.show()"
   ],
   "metadata": {
    "collapsed": false,
    "ExecuteTime": {
     "end_time": "2023-12-01T10:24:46.181092241Z",
     "start_time": "2023-12-01T10:24:45.487574463Z"
    }
   },
   "id": "ec0925cccf08a9ac"
  },
  {
   "cell_type": "markdown",
   "source": [
    "## 总结\n",
    "\n",
    "您只提供了50张照片，这远远不足以训练一个准确率超过随机猜测的模型。我使用了TensorFlow数据集来获取一些高质量的带分类的猫和狗的图片。\n",
    "\n",
    "### 预测准确率曲线的结果\n",
    "\n",
    "以下是一些可能的修改方式：\n",
    "\n",
    "1. **增加网络层数**：可以尝试增加卷积层或全连接层的数量。一般来说，增加层数可以增加模型的复杂度，使得模型能够学习更复杂的特征，但是也可能导致过拟合的问题。\n",
    "\n",
    "2. **修改卷积核数量**：可以尝试增加或减少每个卷积层的卷积核数量。卷积核的数量决定了模型在每个卷积层学习的特征数量，增加卷积核数量可以使模型学习到更多的特征，但也可能导致模型过于复杂和计算量增大。\n",
    "\n",
    "3. **修改卷积核大小**：可以尝试修改卷积核的大小。卷积核的大小决定了模型在空间维度（宽度和高度）上的感受野，较大的卷积核可以捕获更大范围的信息，较小的卷积核可以捕获更精细的信息。\n",
    "\n",
    "在修改网络结构后，需要重新训练模型，并观察训练和验证的精度和损失变化，以及模型在测试集上的性能，以此来评估修改的效果。"
   ],
   "metadata": {
    "collapsed": false
   },
   "id": "ce7e700abb6a93ab"
  }
 ],
 "metadata": {
  "kernelspec": {
   "display_name": "Python 3",
   "language": "python",
   "name": "python3"
  },
  "language_info": {
   "codemirror_mode": {
    "name": "ipython",
    "version": 2
   },
   "file_extension": ".py",
   "mimetype": "text/x-python",
   "name": "python",
   "nbconvert_exporter": "python",
   "pygments_lexer": "ipython2",
   "version": "2.7.6"
  }
 },
 "nbformat": 4,
 "nbformat_minor": 5
}
